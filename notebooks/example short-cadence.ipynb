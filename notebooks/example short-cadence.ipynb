{
 "cells": [
  {
   "cell_type": "markdown",
   "metadata": {},
   "source": [
    "https://exofop.ipac.caltech.edu/tess/target.php?id=460205581"
   ]
  },
  {
   "cell_type": "code",
   "execution_count": 23,
   "metadata": {},
   "outputs": [],
   "source": [
    "%matplotlib inline\n",
    "import numpy as np\n",
    "import matplotlib.pyplot as pl\n",
    "\n",
    "Tmag = 9.9322 #± 0.006"
   ]
  },
  {
   "cell_type": "code",
   "execution_count": 12,
   "metadata": {},
   "outputs": [
    {
     "name": "stderr",
     "output_type": "stream",
     "text": [
      "/home/jp/miniconda3/envs/py3/lib/python3.7/site-packages/lightkurve/search.py:233: LightkurveWarning: Warning: 2 files available to download. Only the first file has been downloaded. Please use `download_all()` or specify additional criteria (e.g. quarter, campaign, or sector) to limit your search.\n",
      "  LightkurveWarning)\n"
     ]
    },
    {
     "data": {
      "text/plain": [
       "TessTargetPixelFile(TICID: 460205581)"
      ]
     },
     "execution_count": 12,
     "metadata": {},
     "output_type": "execute_result"
    }
   ],
   "source": [
    "import lightkurve as lk\n",
    "\n",
    "#download a tpf using lightkurve package\n",
    "ticid = 460205581 #random choice\n",
    "tpf = lk.search_targetpixelfile(f'TIC {ticid}', mission='TESS', sector=10).download()\n",
    "tpf"
   ]
  },
  {
   "cell_type": "code",
   "execution_count": 16,
   "metadata": {},
   "outputs": [],
   "source": [
    "flux = tpf.flux\n",
    "time = tpf.time"
   ]
  },
  {
   "cell_type": "code",
   "execution_count": 17,
   "metadata": {},
   "outputs": [
    {
     "data": {
      "text/plain": [
       "((18085,), (18085, 11, 11))"
      ]
     },
     "execution_count": 17,
     "metadata": {},
     "output_type": "execute_result"
    }
   ],
   "source": [
    "time.shape, flux.shape"
   ]
  },
  {
   "cell_type": "raw",
   "metadata": {},
   "source": [
    "#install cv2 in vinify\n",
    "import sys\n",
    "!{sys.executable} -m pip install opencv-python"
   ]
  },
  {
   "cell_type": "code",
   "execution_count": 9,
   "metadata": {},
   "outputs": [],
   "source": [
    "import sys\n",
    "sys.path.append('..')\n",
    "import vinify as vn"
   ]
  },
  {
   "cell_type": "raw",
   "metadata": {},
   "source": [
    "# get a median image from the time-series image data\n",
    "img = np.nanmedian(flux, axis=0)\n",
    "#apertrueに使用するpixel数の上限を計算\n",
    "# calculate the max number of pixel used for aperture\n",
    "area_thresh = determine_area_thresh(Tmag)\n",
    "#apertureに使用するpixelを決定\n",
    "# determine pixels for aperture\n",
    "aperture = determin_aperture(img, (cx, cy), area_thresh=area_thresh)\n",
    "#backgroundに使用するpixelを決定\n",
    "# determine pixels for background\n",
    "bkg_aperture = make_background(img, (cx, cy), aperture)\n",
    "#backgroundのみのframeを作成\n",
    "# create time-series iamge data containing only background pixels\n",
    "bkg_frame = np.where(bkg_aperture == 1, flux, np.nan)\n",
    "#単純 meanを求める\n",
    "# take the average\n",
    "bkg_arr = np.nanmean(bkg_frame, axis=(1, 2))\n",
    "calibrated_flux = flux - bkg_arr.reshape((bkg_arr.shape[0], 1, 1))\n",
    "#light curveを作る\n",
    "# create the light curve\n",
    "aperture_frame = np.where(aperture == 1, calibrated_flux, 0)\n",
    "sap_flux = np.sum(aperture_frame, axis=(1, 2))\n",
    "#asteroid qualityを作成\n",
    "# create asteroid quality\n",
    "my_quality = label_asteroid(flux, my_quality, crit=4, kernel_size=51)\n",
    "#出力\n",
    "# store\n",
    "dstpath = os.path.join(get_workdir(data_type, sector, 2), h5name)\n",
    "save(dstpath, f, aperture, bkg_aperture, calibrated_flux, time, sap_flux, quality, my_quality)"
   ]
  },
  {
   "cell_type": "code",
   "execution_count": 53,
   "metadata": {},
   "outputs": [
    {
     "data": {
      "text/plain": [
       "<matplotlib.image.AxesImage at 0x7ff7bddc3f10>"
      ]
     },
     "execution_count": 53,
     "metadata": {},
     "output_type": "execute_result"
    },
    {
     "data": {
      "image/png": "[encoded data removed]",
      "text/plain": [
       "<Figure size 288x288 with 1 Axes>"
      ]
     },
     "metadata": {
      "needs_background": "light"
     },
     "output_type": "display_data"
    }
   ],
   "source": [
    "# get a median image from the time-series image data\n",
    "img = np.nanmedian(flux, axis=0)\n",
    "pl.matshow(img)"
   ]
  },
  {
   "cell_type": "code",
   "execution_count": 54,
   "metadata": {},
   "outputs": [
    {
     "data": {
      "text/plain": [
       "<matplotlib.image.AxesImage at 0x7ff7bdc40950>"
      ]
     },
     "execution_count": 54,
     "metadata": {},
     "output_type": "execute_result"
    },
    {
     "data": {
      "image/png": "[encoded data removed]",
      "text/plain": [
       "<Figure size 288x288 with 1 Axes>"
      ]
     },
     "metadata": {
      "needs_background": "light"
     },
     "output_type": "display_data"
    }
   ],
   "source": [
    "# calculate the max number of pixel used for aperture\n",
    "area_thresh = vn.determine_area_thresh(Tmag)\n",
    "\n",
    "# determine pixels for aperture\n",
    "cx = cy = tpf.shape[1]//2 #choose middle\n",
    "aperture = vn.determin_aperture(img, (cx, cy), area_thresh=area_thresh)\n",
    "pl.matshow(aperture)"
   ]
  },
  {
   "cell_type": "code",
   "execution_count": 58,
   "metadata": {},
   "outputs": [
    {
     "data": {
      "text/plain": [
       "<matplotlib.image.AxesImage at 0x7ff7be165150>"
      ]
     },
     "execution_count": 58,
     "metadata": {},
     "output_type": "execute_result"
    },
    {
     "data": {
      "image/png": "[encoded data removed]",
      "text/plain": [
       "<Figure size 288x288 with 1 Axes>"
      ]
     },
     "metadata": {
      "needs_background": "light"
     },
     "output_type": "display_data"
    }
   ],
   "source": [
    "# determine pixels for background\n",
    "bkg_aperture = vn.make_background(img, (cx, cy), aperture)\n",
    "pl.matshow(bkg_aperture)"
   ]
  },
  {
   "cell_type": "code",
   "execution_count": 61,
   "metadata": {},
   "outputs": [
    {
     "data": {
      "text/plain": [
       "(18085, 11, 11)"
      ]
     },
     "execution_count": 61,
     "metadata": {},
     "output_type": "execute_result"
    }
   ],
   "source": [
    "# create time-series iamge data containing only background pixels\n",
    "bkg_frame = np.where(bkg_aperture == 1, flux, np.nan)\n",
    "bkg_frame.shape"
   ]
  },
  {
   "cell_type": "code",
   "execution_count": 66,
   "metadata": {},
   "outputs": [
    {
     "data": {
      "text/plain": [
       "[<matplotlib.lines.Line2D at 0x7ff7be1357d0>]"
      ]
     },
     "execution_count": 66,
     "metadata": {},
     "output_type": "execute_result"
    },
    {
     "data": {
      "image/png": "[encoded data removed]",
      "text/plain": [
       "<Figure size 432x288 with 1 Axes>"
      ]
     },
     "metadata": {
      "needs_background": "light"
     },
     "output_type": "display_data"
    }
   ],
   "source": [
    "# take the average\n",
    "bkg_arr = np.nanmean(bkg_frame, axis=(1, 2))\n",
    "pl.plot(bkg_arr)"
   ]
  },
  {
   "cell_type": "code",
   "execution_count": 71,
   "metadata": {},
   "outputs": [
    {
     "data": {
      "text/plain": [
       "(18085, 11, 11)"
      ]
     },
     "execution_count": 71,
     "metadata": {},
     "output_type": "execute_result"
    }
   ],
   "source": [
    "calibrated_flux = flux - bkg_arr.reshape((bkg_arr.shape[0], 1, 1))\n",
    "calibrated_flux.shape"
   ]
  },
  {
   "cell_type": "code",
   "execution_count": 73,
   "metadata": {},
   "outputs": [
    {
     "data": {
      "text/plain": [
       "[<matplotlib.lines.Line2D at 0x7ff7be549190>]"
      ]
     },
     "execution_count": 73,
     "metadata": {},
     "output_type": "execute_result"
    },
    {
     "data": {
      "image/png": "[encoded data removed]",
      "text/plain": [
       "<Figure size 432x288 with 1 Axes>"
      ]
     },
     "metadata": {
      "needs_background": "light"
     },
     "output_type": "display_data"
    }
   ],
   "source": [
    "# create the light curve\n",
    "aperture_frame = np.where(aperture == 1, calibrated_flux, 0)\n",
    "sap_flux = np.sum(aperture_frame, axis=(1, 2))\n",
    "pl.plot(sap_flux)"
   ]
  },
  {
   "cell_type": "raw",
   "metadata": {},
   "source": [
    "#asteroid qualityを作成\n",
    "# create asteroid quality\n",
    "my_quality = label_asteroid(flux, my_quality, crit=4, kernel_size=51)\n",
    "#出力\n",
    "# store\n",
    "dstpath = os.path.join(get_workdir(data_type, sector, 2), h5name)\n",
    "save(dstpath, f, aperture, bkg_aperture, calibrated_flux, time, sap_flux, quality, my_quality)"
   ]
  }
 ],
 "metadata": {
  "kernelspec": {
   "display_name": "Python 3",
   "language": "python",
   "name": "python3"
  },
  "language_info": {
   "codemirror_mode": {
    "name": "ipython",
    "version": 3
   },
   "file_extension": ".py",
   "mimetype": "text/x-python",
   "name": "python",
   "nbconvert_exporter": "python",
   "pygments_lexer": "ipython3",
   "version": "3.7.4"
  },
  "toc": {
   "base_numbering": 1,
   "nav_menu": {},
   "number_sections": true,
   "sideBar": true,
   "skip_h1_title": false,
   "title_cell": "Table of Contents",
   "title_sidebar": "Contents",
   "toc_cell": false,
   "toc_position": {},
   "toc_section_display": true,
   "toc_window_display": false
  }
 },
 "nbformat": 4,
 "nbformat_minor": 2
}
